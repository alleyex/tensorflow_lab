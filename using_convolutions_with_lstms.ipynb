{
  "nbformat": 4,
  "nbformat_minor": 0,
  "metadata": {
    "colab": {
      "provenance": [],
      "authorship_tag": "ABX9TyNUOmfSHIc/Q4MuVdijySC4",
      "include_colab_link": true
    },
    "kernelspec": {
      "name": "python3",
      "display_name": "Python 3"
    },
    "language_info": {
      "name": "python"
    }
  },
  "cells": [
    {
      "cell_type": "markdown",
      "metadata": {
        "id": "view-in-github",
        "colab_type": "text"
      },
      "source": [
        "<a href=\"https://colab.research.google.com/github/alleyex/tensorflow_lab/blob/main/using_convolutions_with_lstms.ipynb\" target=\"_parent\"><img src=\"https://colab.research.google.com/assets/colab-badge.svg\" alt=\"Open In Colab\"/></a>"
      ]
    },
    {
      "cell_type": "code",
      "execution_count": 1,
      "metadata": {
        "id": "TeZchhLvRBq9"
      },
      "outputs": [],
      "source": [
        "import tensorflow as tf\n",
        "import numpy as np\n",
        "import matplotlib.pyplot as plt"
      ]
    },
    {
      "cell_type": "code",
      "source": [
        "def plot_series(x, y, format=\"-\", start=0, end=None, title=None, xlabel=None, ylabel=None, legend=None):\n",
        "  \"\"\"\n",
        "  Visualizes time series data\n",
        "  Args:\n",
        "    x (array of int): contains values for the x-axis\n",
        "    y (array of int or tuple of arrays): contains values for the y-axis\n",
        "    format (string): line style when plotting the graph\n",
        "    start (int): first time step to plot\n",
        "    end (int): last time step to plot\n",
        "    title (string): title of the plot\n",
        "    xlabel (string): label for the x-axis\n",
        "    ylabel (string): label for the y-axis\n",
        "    legend (string): legend for the plot\n",
        "  \"\"\"\n",
        "\n",
        "  # Setup dimensions of the graph figure\n",
        "  plt.figure(figsize=(10, 6))\n",
        "\n",
        "  # Check if there are more than two series to plot\n",
        "  if type(y) is tuple:\n",
        "\n",
        "    # Loop over the y elements\n",
        "    for y_curr in y:\n",
        "\n",
        "      # plot the x and current y values\n",
        "      plt.plot(x[start: end], y_curr[start: end], format)\n",
        "\n",
        "  else:\n",
        "    plt.plot(x[start: end], y[start: end], format)\n",
        "\n",
        "  # Label the x-axis\n",
        "  plt.xlabel(xlabel)\n",
        "\n",
        "  # Label the y-axis\n",
        "  plt.ylabel(ylabel)\n",
        "\n",
        "  # Set the title\n",
        "  plt.title(title)\n",
        "\n",
        "  # Overlay a grid on the graph\n",
        "  plt.grid(True)\n",
        "\n",
        "  # Draw the graph on screen\n",
        "  plt.show()\n",
        "\n",
        "def trend(time, slope=0):\n",
        "  \"\"\"\n",
        "  Generates synthetic data that follows a straight line given slope and time\n",
        "\n",
        "  Args:\n",
        "    time (array of int): contains the time steps\n",
        "    slope (float): slope of the line\n",
        "\n",
        "  Returns:\n",
        "    series (array of float): the synthetic series\n",
        "  \"\"\"\n",
        "\n",
        "  # compute the linear series given the slope\n",
        "  series = slope * time\n",
        "\n",
        "  return series\n",
        "\n",
        "\n",
        "\n",
        "\n",
        "\n",
        "\n",
        "\n",
        "\n"
      ],
      "metadata": {
        "id": "QyEpNtqaWXL6"
      },
      "execution_count": 4,
      "outputs": []
    },
    {
      "cell_type": "markdown",
      "source": [],
      "metadata": {
        "id": "moB7jlweZMjU"
      }
    }
  ]
}